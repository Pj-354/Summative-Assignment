{
 "cells": [
  {
   "cell_type": "code",
   "execution_count": 231,
   "metadata": {},
   "outputs": [],
   "source": [
    "import numpy as np \n",
    "import pandas as pd\n",
    "from scipy.optimize import minimize"
   ]
  },
  {
   "cell_type": "code",
   "execution_count": null,
   "metadata": {},
   "outputs": [
    {
     "data": {
      "text/plain": [
       "array([0.0174, 0.0213, 0.0262, 0.0304, 0.0346, 0.038 , 0.0404, 0.0421,\n",
       "       0.0436, 0.0452, 0.0465])"
      ]
     },
     "execution_count": 19,
     "metadata": {},
     "output_type": "execute_result"
    }
   ],
   "source": [
    "test_maturity = [i * 0.5 for i in range(1,12)]\n",
    "test_price = [99.1338, 97.8925, 96.1462, 94.1011, 91.7136, 89.2258, 86.8142, 84.5016, 82.1848, 79.7718, 77.4339]\n",
    "test_yields = [1.74, 2.13, 2.62, 3.04, 3.46, 3.80, 4.04, 4.21, 4.36, 4.52, 4.65]\n",
    "test_yields = np.array(yields) / 100"
   ]
  },
  {
   "cell_type": "code",
   "execution_count": 232,
   "metadata": {},
   "outputs": [],
   "source": [
    "def Building_Tree(theta,\n",
    "                  number_of_periods = yield_curve['Yield'].to_numpy().shape[0],\n",
    "                  r0 = r0,\n",
    "                  volatility = rate_vol,\n",
    "                  dt = dt):\n",
    "\n",
    " \n",
    " #Creating Binomial Tree of length i, height i \n",
    " binomial_tree = np.zeros((number_of_periods , number_of_periods)) \n",
    " binomial_tree[np.triu_indices(number_of_periods, 0)] = r0\n",
    "\n",
    " #Setting labels and tags to make binomial tree more readable\n",
    " binomial_tree = pd.DataFrame(binomial_tree)\n",
    " binomial_tree.columns = [i for i in range(0, number_of_periods)]\n",
    " binomial_tree.index = [i for i in range(0,number_of_periods)]\n",
    " binomial_tree.columns.name = 'i'\n",
    " binomial_tree.index.name = 'j'\n",
    " \n",
    " #Apply Ho-Lee\n",
    " \n",
    " for i in range(1, number_of_periods): #Time steps from i = 1,2, ... N-1\n",
    "      for j in range(i + 1):      #States from 0 to i \n",
    "         \n",
    "            if j == 0:\n",
    "                previous_rate = binomial_tree.iloc[j, i-1]\n",
    "                binomial_tree.iloc[j , i] = previous_rate + theta[i-1]*dt + volatility*np.sqrt(dt)\n",
    "            else:\n",
    "                previous_rate = binomial_tree.iloc[j-1, i-1]\n",
    "                binomial_tree.iloc[j, i] = previous_rate + theta[i-1]*dt - volatility*np.sqrt(dt)\n",
    "\n",
    " return binomial_tree"
   ]
  },
  {
   "cell_type": "code",
   "execution_count": 233,
   "metadata": {},
   "outputs": [],
   "source": [
    "def ZCB(yield_curve=yield_curve['Yield'].to_numpy(), dt = dt, periods = 50):\n",
    "    \n",
    "    if isinstance(yield_curve, np.ndarray):\n",
    "        yield_curve = list(yield_curve)\n",
    "        \n",
    "    ZCB_prices = np.zeros(periods)\n",
    "    \n",
    "    for i in range(periods):\n",
    "        discount_factor = np.exp( - yield_curve[i] * (dt*(i+1)))\n",
    "        ZCB_prices[i] = 100.00 * discount_factor\n",
    "    \n",
    "    return ZCB_prices\n"
   ]
  },
  {
   "cell_type": "code",
   "execution_count": 234,
   "metadata": {},
   "outputs": [],
   "source": [
    "def Ho_Lee_Model_LossFunction(theta, periods, r0 = r0, volatility = rate_vol, dt = dt, \n",
    "                              yield_curve = yield_curve['Yield']):\n",
    "    '''  \n",
    "    This calculates the error function between the Ho-lee model (using initial theta values that \n",
    "    are basically random values) and the actual observed ZCB prices calculated from ZCB() function.\n",
    "\n",
    "    The idea is to use this function in tandem with an optimiser that will fit the theta values by\n",
    "    minimising this loss function.\n",
    "\n",
    "    Not the most computationally efficient method but shows the information flow well.\n",
    "\n",
    "    Loss function used is MSE.\n",
    "    Uses the short-rate at time = 0 as an initial value (r0)\n",
    "    '''\n",
    "    Error_SSE = 0.\n",
    "    ZCBx = ZCB(yield_curve=yield_curve, periods = periods)\n",
    "\n",
    "    for period in range(1, periods + 1):\n",
    "        target_model_price = ZCB_Ho_Lee_Calibration(maturity = period - 1, theta = theta, r0 = r0)\n",
    "        observed_price = ZCBx[period - 1]\n",
    "        Error_SSE += (target_model_price - observed_price)**2\n",
    "\n",
    "    return Error_SSE\n"
   ]
  },
  {
   "cell_type": "code",
   "execution_count": null,
   "metadata": {},
   "outputs": [],
   "source": [
    "def ZCB_Ho_Lee_Calibration(maturity, theta, r0 = r0, dt = dt, par_value = 100, volatility = rate_vol, test=False):\n",
    "    ''' \n",
    "    To calibrate Ho-Lee model, we use backward induction to calculate the price of ZCB bonds.\n",
    "    This function will be passed through to an optimiser, we can minimise some loss function by comparing this to the true observed\n",
    "    ZCB prices. This function manually sets the final layer based on the payoff\n",
    "\n",
    "    Risk neutral probabilities uses q = 0.5\n",
    "    Parameters :\n",
    "        1. maturity : ZCB for a specific maturity \n",
    "        2. theta : theta vector\n",
    "        3. dt : set to 0.5 years\n",
    "        4. par value : $100 ZCB \n",
    "    ----------\n",
    "    Returns ZCB_price : present value of cash flows e.g., price of ZCB bond at t = 0\n",
    "    \n",
    "    '''\n",
    "    periods = maturity + 1\n",
    "    #Final node is based on the defined payoff below (for ZCB it's simple)\n",
    "    binomial_tree = Building_Tree(theta, number_of_periods=periods, dt=dt, volatility=volatility, r0 = r0)\n",
    "    \n",
    "    #Create Value Tree and set last row to $100\n",
    "    value_tree = pd.DataFrame(np.zeros(periods * periods).reshape(periods,periods)).reindex_like(binomial_tree)\n",
    "\n",
    "    #Penultimate Node\n",
    "    value_tree.iloc[:,-1] = par_value * np.exp(-binomial_tree.iloc[:,-1] * dt)\n",
    "\n",
    "    #Backward Induction : start from final node, go backwards to i = 0 period\n",
    "    for i in range(periods-2, -1, -1):\n",
    "\n",
    "        #Only goes up to when i = j (diagonal)\n",
    "        for j in range(i+1): \n",
    "            #Discounted Expected Value of the bond at time i\n",
    "            value_tree.iloc[j, i] = 0.5 * (value_tree.iloc[j, i+1] + value_tree.iloc[j+1, i+1]) * np.exp(-binomial_tree.iloc[j, i] * dt)\n",
    "    \n",
    "    if test == True:\n",
    "        return value_tree.iloc[0,0], value_tree\n",
    "    else:\n",
    "        return value_tree.iloc[0,0]"
   ]
  },
  {
   "cell_type": "code",
   "execution_count": null,
   "metadata": {},
   "outputs": [],
   "source": [
    "def calibration_HL(yield_curve = yield_curve['Yield'].to_numpy(), periods = 50, sigma = rate_vol, dt = dt, r0 = yield_curve['Yield'].iloc[0]):\n",
    "    ''' \n",
    "    argmin theta vector of norm-2 errors \n",
    "\n",
    "    '''\n",
    "    initial_guess_theta = np.ones(periods) * 0.025\n",
    "\n",
    "    #objective function \n",
    "    def objective_function(theta):\n",
    "        return Ho_Lee_Model_LossFunction(theta=theta, periods = periods, r0 = r0, yield_curve=yield_curve)\n",
    "    \n",
    "    result = minimize(objective_function, initial_guess_theta, method = 'BFGS',\n",
    "                      options={\n",
    "                          'maxiter': 5000,\n",
    "                          'gtol' : 0.005,\n",
    "                          'eps': 0.00001,\n",
    "                          'disp': True\n",
    "                      })\n",
    "    print(result.success, result.message)\n",
    "\n",
    "    theta_calibrated = result.x\n",
    "\n",
    "    return theta_calibrated, result\n"
   ]
  }
 ],
 "metadata": {
  "kernelspec": {
   "display_name": "Python 3",
   "language": "python",
   "name": "python3"
  },
  "language_info": {
   "codemirror_mode": {
    "name": "ipython",
    "version": 3
   },
   "file_extension": ".py",
   "mimetype": "text/x-python",
   "name": "python",
   "nbconvert_exporter": "python",
   "pygments_lexer": "ipython3",
   "version": "3.9.6"
  }
 },
 "nbformat": 4,
 "nbformat_minor": 2
}
